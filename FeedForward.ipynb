{
 "cells": [
  {
   "cell_type": "code",
   "execution_count": 1,
   "metadata": {},
   "outputs": [],
   "source": [
    "import torch\n",
    "import matplotlib.pyplot as plt\n",
    "import torch.nn as nn\n",
    "from sklearn.metrics import accuracy_score as acc\n",
    "from torch.utils.data import DataLoader, Dataset\n",
    "from torch import optim"
   ]
  },
  {
   "cell_type": "code",
   "execution_count": 2,
   "metadata": {},
   "outputs": [],
   "source": [
    "class DL(Dataset):\n",
    "    def __init__(self, x1, x2, x3, x4, x5, y):\n",
    "        self.x1 = x1\n",
    "        self.x2 = x2\n",
    "        self.x3 = x3\n",
    "        self.x4 = x4\n",
    "        self.x5 = x5\n",
    "        self.y = y\n",
    "    def __len__(self):\n",
    "        return self.x1.shape[0]\n",
    "    def __getitem__(self, idx):\n",
    "        return self.x1[idx], self.x2[idx], self.x3[idx], self.x4[idx], self.x5[idx], self.y[idx]"
   ]
  },
  {
   "cell_type": "code",
   "execution_count": 3,
   "metadata": {},
   "outputs": [],
   "source": [
    "class FF(nn.Module):\n",
    "    def __init__(self):\n",
    "        super().__init__()\n",
    "        self.l1 = nn.Linear(in_features=5, out_features=3, bias=True)\n",
    "        self.a1 = nn.Sigmoid()\n",
    "        self.l2 = nn.Linear(in_features=3, out_features=1, bias= True)\n",
    "        self.a2 = nn.Sigmoid()\n",
    "        torch.nn.init.xavier_uniform_(self.l1.weight)\n",
    "        torch.nn.init.xavier_uniform_(self.l2.weight)\n",
    "    def forward(self, x1, x2, x3, x4, x5):\n",
    "        x = torch.cat((x1, x2, x3, x4, x5), dim=1)\n",
    "        z = self.l1(x)\n",
    "        r = self.a1(z)\n",
    "        z = self.l2(r)\n",
    "        r = self.a2(z)\n",
    "        return r"
   ]
  },
  {
   "cell_type": "code",
   "execution_count": 4,
   "metadata": {},
   "outputs": [],
   "source": [
    "x1 = torch.tensor([0, 1, 1, 0, 0, 1, 1, 0], dtype=torch.float32).view(-1, 1)\n",
    "x2 = torch.tensor([0, 0, 1, 1, 0, 1, 1, 1], dtype=torch.float32).view(-1, 1)\n",
    "x3 = torch.tensor([1, 0, 0, 1, 1, 0, 1, 0], dtype=torch.float32).view(-1, 1)\n",
    "x4 = torch.tensor([0, 1, 1, 1, 1, 1, 0, 0], dtype=torch.float32).view(-1, 1)\n",
    "x5 = torch.tensor([1, 0, 0, 0, 1, 1, 0, 1], dtype=torch.float32).view(-1, 1)\n",
    "y = torch.tensor([0, 1, 0, 1, 1, 0, 0, 1], dtype=torch.float32).view(-1, 1)"
   ]
  },
  {
   "cell_type": "code",
   "execution_count": 5,
   "metadata": {},
   "outputs": [
    {
     "data": {
      "text/plain": [
       "200"
      ]
     },
     "execution_count": 5,
     "metadata": {},
     "output_type": "execute_result"
    }
   ],
   "source": [
    "epochs = int(input(\"Enter Number of Epochs : \"))\n",
    "epochs"
   ]
  },
  {
   "cell_type": "code",
   "execution_count": 6,
   "metadata": {},
   "outputs": [],
   "source": [
    "model = FF()"
   ]
  },
  {
   "cell_type": "code",
   "execution_count": 7,
   "metadata": {},
   "outputs": [],
   "source": [
    "data = DL(x1, x2, x3, x4, x5, y)"
   ]
  },
  {
   "cell_type": "code",
   "execution_count": 8,
   "metadata": {},
   "outputs": [
    {
     "data": {
      "text/plain": [
       "<torch.utils.data.dataloader.DataLoader at 0x7fa59dee6cc0>"
      ]
     },
     "execution_count": 8,
     "metadata": {},
     "output_type": "execute_result"
    }
   ],
   "source": [
    "dataload = DataLoader(dataset=data, batch_size=4, shuffle=True)\n",
    "dataload"
   ]
  },
  {
   "cell_type": "code",
   "execution_count": 9,
   "metadata": {},
   "outputs": [],
   "source": [
    "cr = nn.BCELoss()\n",
    "opt = optim.SGD(model.parameters(), lr=0.01)"
   ]
  },
  {
   "cell_type": "code",
   "execution_count": 10,
   "metadata": {},
   "outputs": [],
   "source": [
    "losses = []"
   ]
  },
  {
   "cell_type": "code",
   "execution_count": 11,
   "metadata": {},
   "outputs": [
    {
     "data": {
      "text/plain": [
       "FF(\n",
       "  (l1): Linear(in_features=5, out_features=3, bias=True)\n",
       "  (a1): Sigmoid()\n",
       "  (l2): Linear(in_features=3, out_features=1, bias=True)\n",
       "  (a2): Sigmoid()\n",
       ")"
      ]
     },
     "execution_count": 11,
     "metadata": {},
     "output_type": "execute_result"
    }
   ],
   "source": [
    "model.train()"
   ]
  },
  {
   "cell_type": "code",
   "execution_count": 14,
   "metadata": {},
   "outputs": [
    {
     "name": "stdout",
     "output_type": "stream",
     "text": [
      "Epoch : 1 Loss: 0.6563836336135864\n",
      "-X-X-X-X-X-X-X-X-X-X-X-X-X-X-X-X-X-X-X-X-X-X-X-X-X-X-X-X-X-X-X-X-X-X-X-X-X-X-X-X-X-X-X-X-X-X-X-X-X-X-\n",
      "Epoch : 21 Loss: 0.6546398103237152\n",
      "-X-X-X-X-X-X-X-X-X-X-X-X-X-X-X-X-X-X-X-X-X-X-X-X-X-X-X-X-X-X-X-X-X-X-X-X-X-X-X-X-X-X-X-X-X-X-X-X-X-X-\n",
      "Epoch : 41 Loss: 0.6534216105937958\n",
      "-X-X-X-X-X-X-X-X-X-X-X-X-X-X-X-X-X-X-X-X-X-X-X-X-X-X-X-X-X-X-X-X-X-X-X-X-X-X-X-X-X-X-X-X-X-X-X-X-X-X-\n",
      "Epoch : 61 Loss: 0.6530001163482666\n",
      "-X-X-X-X-X-X-X-X-X-X-X-X-X-X-X-X-X-X-X-X-X-X-X-X-X-X-X-X-X-X-X-X-X-X-X-X-X-X-X-X-X-X-X-X-X-X-X-X-X-X-\n",
      "Epoch : 81 Loss: 0.6517055928707123\n",
      "-X-X-X-X-X-X-X-X-X-X-X-X-X-X-X-X-X-X-X-X-X-X-X-X-X-X-X-X-X-X-X-X-X-X-X-X-X-X-X-X-X-X-X-X-X-X-X-X-X-X-\n",
      "Epoch : 101 Loss: 0.6497569978237152\n",
      "-X-X-X-X-X-X-X-X-X-X-X-X-X-X-X-X-X-X-X-X-X-X-X-X-X-X-X-X-X-X-X-X-X-X-X-X-X-X-X-X-X-X-X-X-X-X-X-X-X-X-\n",
      "Epoch : 121 Loss: 0.6484962105751038\n",
      "-X-X-X-X-X-X-X-X-X-X-X-X-X-X-X-X-X-X-X-X-X-X-X-X-X-X-X-X-X-X-X-X-X-X-X-X-X-X-X-X-X-X-X-X-X-X-X-X-X-X-\n",
      "Epoch : 141 Loss: 0.6472674608230591\n",
      "-X-X-X-X-X-X-X-X-X-X-X-X-X-X-X-X-X-X-X-X-X-X-X-X-X-X-X-X-X-X-X-X-X-X-X-X-X-X-X-X-X-X-X-X-X-X-X-X-X-X-\n",
      "Epoch : 161 Loss: 0.6460461318492889\n",
      "-X-X-X-X-X-X-X-X-X-X-X-X-X-X-X-X-X-X-X-X-X-X-X-X-X-X-X-X-X-X-X-X-X-X-X-X-X-X-X-X-X-X-X-X-X-X-X-X-X-X-\n",
      "Epoch : 181 Loss: 0.6447912454605103\n",
      "-X-X-X-X-X-X-X-X-X-X-X-X-X-X-X-X-X-X-X-X-X-X-X-X-X-X-X-X-X-X-X-X-X-X-X-X-X-X-X-X-X-X-X-X-X-X-X-X-X-X-\n"
     ]
    }
   ],
   "source": [
    "for i in range(epochs):\n",
    "    model.train()\n",
    "    l1 = 0.0    \n",
    "    for ip1, ip2, ip3, ip4, ip5, op in dataload:\n",
    "        opt.zero_grad()\n",
    "        out = model.forward(ip1, ip2, ip3, ip4, ip5)\n",
    "        loss = cr(out, op)\n",
    "        loss.backward()\n",
    "        opt.step()\n",
    "        l1 += loss.item()\n",
    "    losses.append(l1)\n",
    "    if i % (epochs/10) == 0:\n",
    "        print(f\"Epoch : {i+1} Loss: {l1/len(dataload)}\")\n",
    "        print('-X' * 50 + '-')"
   ]
  },
  {
   "cell_type": "code",
   "execution_count": null,
   "metadata": {},
   "outputs": [],
   "source": []
  }
 ],
 "metadata": {
  "kernelspec": {
   "display_name": ".env",
   "language": "python",
   "name": "python3"
  },
  "language_info": {
   "codemirror_mode": {
    "name": "ipython",
    "version": 3
   },
   "file_extension": ".py",
   "mimetype": "text/x-python",
   "name": "python",
   "nbconvert_exporter": "python",
   "pygments_lexer": "ipython3",
   "version": "3.12.3"
  }
 },
 "nbformat": 4,
 "nbformat_minor": 2
}
