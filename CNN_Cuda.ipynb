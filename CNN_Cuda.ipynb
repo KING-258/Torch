{
 "cells": [
  {
   "cell_type": "code",
   "execution_count": 1,
   "metadata": {},
   "outputs": [],
   "source": [
    "import torch\n",
    "from torch.utils.data import DataLoader\n",
    "from torchvision import datasets, transforms\n",
    "from sklearn.metrics import confusion_matrix\n",
    "from torch import nn\n",
    "from sklearn.metrics import accuracy_score as acc"
   ]
  },
  {
   "cell_type": "markdown",
   "metadata": {},
   "source": [
    "# CUDA - CNN with Class"
   ]
  },
  {
   "cell_type": "code",
   "execution_count": 2,
   "metadata": {},
   "outputs": [],
   "source": [
    "transforms = transforms.Compose([transforms.ToTensor(), transforms.Normalize((0.5, ), (0.5, ))])\n",
    "train = datasets.MNIST('./Data', train= True, download= True, transform= transforms)\n",
    "test = datasets.MNIST('./Data', train= False, download= True, transform=transforms)\n",
    "train_loader = DataLoader(train, batch_size=64, shuffle= True)\n",
    "test_loader = DataLoader(test, batch_size= 64, shuffle= True)"
   ]
  },
  {
   "cell_type": "code",
   "execution_count": 3,
   "metadata": {},
   "outputs": [],
   "source": [
    "class CNN(nn.Module):\n",
    "    def __init__(self):\n",
    "        super().__init__()\n",
    "        self.net = nn.Sequential(\n",
    "            nn.Conv2d(1, 32, kernel_size=3),\n",
    "            nn.ReLU(),\n",
    "            nn.MaxPool2d((2, 2), stride= 2),\n",
    "            nn.Conv2d(32, 64, kernel_size=3), \n",
    "            nn.ReLU(),\n",
    "            nn.MaxPool2d((2, 2), stride=2), \n",
    "            nn.Conv2d(64, 32, kernel_size= 3),\n",
    "            nn.ReLU(),\n",
    "            nn.MaxPool2d((2, 2), stride= 2)\n",
    "        )\n",
    "        self.classify_head = nn.Sequential(\n",
    "            nn.Linear(32, 20, bias= True),\n",
    "            nn.Linear(20, 10, bias= True)\n",
    "        )\n",
    "    \n",
    "    def forward(self, x):\n",
    "        return self.classify_head(self.net(x).reshape(-1, 32))"
   ]
  },
  {
   "cell_type": "code",
   "execution_count": 4,
   "metadata": {},
   "outputs": [
    {
     "data": {
      "text/plain": [
       "device(type='cuda')"
      ]
     },
     "execution_count": 4,
     "metadata": {},
     "output_type": "execute_result"
    }
   ],
   "source": [
    "device = torch.device('cuda' if torch.cuda.is_available() else 'cpu')\n",
    "device"
   ]
  },
  {
   "cell_type": "code",
   "execution_count": 5,
   "metadata": {},
   "outputs": [],
   "source": [
    "model = CNN().to(device=device)\n",
    "criterion = torch.nn.CrossEntropyLoss()\n",
    "optimizer = torch.optim.SGD(model.parameters(), lr=0.001)"
   ]
  },
  {
   "cell_type": "code",
   "execution_count": 6,
   "metadata": {},
   "outputs": [
    {
     "data": {
      "text/plain": [
       "11"
      ]
     },
     "execution_count": 6,
     "metadata": {},
     "output_type": "execute_result"
    }
   ],
   "source": [
    "epochs = int(input(\"Enter Number of Epochs : \"))\n",
    "epochs"
   ]
  },
  {
   "cell_type": "code",
   "execution_count": 7,
   "metadata": {},
   "outputs": [
    {
     "name": "stdout",
     "output_type": "stream",
     "text": [
      "Epoch - 1, loss = 2158.0305013656616\n",
      "Epoch - 2, loss = 2143.6634936332703\n",
      "Epoch - 3, loss = 2125.5129721164703\n",
      "Epoch - 4, loss = 2093.9018342494965\n",
      "Epoch - 5, loss = 2033.62961935997\n",
      "Epoch - 6, loss = 1902.476318359375\n",
      "Epoch - 7, loss = 1616.9901477098465\n",
      "Epoch - 8, loss = 1216.7833691835403\n",
      "Epoch - 9, loss = 878.488124191761\n",
      "Epoch - 10, loss = 658.9146489799023\n",
      "Epoch - 11, loss = 518.8318795859814\n"
     ]
    }
   ],
   "source": [
    "for epoch in range(epochs):\n",
    "    model.train()\n",
    "    running_loss = 0.0\n",
    "    for input, target in train_loader:\n",
    "        input, target = input.to(device), target.to(device)\n",
    "        optimizer.zero_grad()\n",
    "        output = model(input)\n",
    "        loss = criterion(output, target)\n",
    "        loss.backward()\n",
    "        running_loss += loss.item()\n",
    "        optimizer.step()\n",
    "    print(f'Epoch - {epoch+1}, loss = {running_loss}')"
   ]
  },
  {
   "cell_type": "code",
   "execution_count": 8,
   "metadata": {},
   "outputs": [],
   "source": [
    "torch.save(model, './Models/CNN-CUDA.pt')"
   ]
  },
  {
   "cell_type": "code",
   "execution_count": 9,
   "metadata": {},
   "outputs": [
    {
     "name": "stdout",
     "output_type": "stream",
     "text": [
      "[[ 939    0   14    0    1    8   12    5    1    0]\n",
      " [   0 1097    3    1    0    0    0    5   29    0]\n",
      " [   9    8  882   17   12    5   16   42   11   30]\n",
      " [   0    2   18  903    0   21    0   14   30   22]\n",
      " [   1    0    2    0  898    0   34    0    5   42]\n",
      " [  13    3    8   31   13  669   10   15  101   29]\n",
      " [  19    5   18    0   17   14  859    0   26    0]\n",
      " [   5   11   57   30    2    3    0  898    3   19]\n",
      " [   1   15    9   71   21   71   13    3  730   40]\n",
      " [   7    1   19   10   31   39    2   12   36  852]]\n",
      "38150\n"
     ]
    }
   ],
   "source": [
    "model.eval()\n",
    "all_preds, all_labels = [], []\n",
    "with torch.no_grad():\n",
    "    for input, target in test_loader:\n",
    "        output = model(input.to('cuda'))\n",
    "        val, index = torch.max(output, 1)\n",
    "        all_preds.extend(index.to('cpu'))\n",
    "        all_labels.extend(target.to('cpu'))\n",
    "cm = confusion_matrix(all_labels, all_preds)\n",
    "print(cm)\n",
    "print(sum(p.numel() for p in model.parameters() if p.requires_grad))"
   ]
  },
  {
   "cell_type": "code",
   "execution_count": 10,
   "metadata": {},
   "outputs": [
    {
     "name": "stdout",
     "output_type": "stream",
     "text": [
      "Accuracy : 0.8727\n"
     ]
    }
   ],
   "source": [
    "ac = acc(all_labels, all_preds)\n",
    "print(f\"Accuracy : {ac}\")"
   ]
  },
  {
   "cell_type": "code",
   "execution_count": null,
   "metadata": {},
   "outputs": [],
   "source": []
  }
 ],
 "metadata": {
  "kernelspec": {
   "display_name": ".env",
   "language": "python",
   "name": "python3"
  },
  "language_info": {
   "codemirror_mode": {
    "name": "ipython",
    "version": 3
   },
   "file_extension": ".py",
   "mimetype": "text/x-python",
   "name": "python",
   "nbconvert_exporter": "python",
   "pygments_lexer": "ipython3",
   "version": "3.12.3"
  }
 },
 "nbformat": 4,
 "nbformat_minor": 2
}
