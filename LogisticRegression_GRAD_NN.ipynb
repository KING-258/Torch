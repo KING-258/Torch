{
 "cells": [
  {
   "cell_type": "code",
   "execution_count": 1,
   "id": "4fb03d61-dcd1-4afe-a834-63efadf71b0a",
   "metadata": {},
   "outputs": [],
   "source": [
    "import torch\n",
    "import torch.nn as nn\n",
    "import torch.optim as optim\n",
    "import torch.utils.data as data\n",
    "from matplotlib import pyplot as plt"
   ]
  },
  {
   "cell_type": "markdown",
   "id": "43915b38-4675-4330-8ebd-3eda470744e2",
   "metadata": {},
   "source": [
    "# Logistic Regression with DataLoader"
   ]
  },
  {
   "cell_type": "code",
   "execution_count": 2,
   "id": "ecbe1ea0-4bb6-496c-8a92-e378601851cb",
   "metadata": {},
   "outputs": [],
   "source": [
    "class LRData(data.Dataset):\n",
    "    def __init__(self, X, y):\n",
    "        super().__init__()\n",
    "        self.X = X.reshape(-1,1)\n",
    "        self.y = y.reshape(-1,1)\n",
    "    def __len__(self):\n",
    "        return len(self.X)\n",
    "    def __getitem__(self, idx):\n",
    "        return self.X[idx], self.y[idx]"
   ]
  },
  {
   "cell_type": "code",
   "execution_count": 3,
   "id": "58559178-8f12-42f0-adcd-e1a7eddd18e5",
   "metadata": {},
   "outputs": [],
   "source": [
    "class LR(nn.Module):\n",
    "    def __init__(self):\n",
    "        super().__init__()\n",
    "        self.l = nn.Linear(1,1)\n",
    "        self.a = nn.Sigmoid()\n",
    "        return\n",
    "    def forward(self, x1):\n",
    "        return self.a(self.l(x1))"
   ]
  },
  {
   "cell_type": "code",
   "execution_count": 4,
   "id": "89404b38-0ce8-4a94-9d14-aeb8de5a35b6",
   "metadata": {},
   "outputs": [],
   "source": [
    "X = torch.tensor([5.0, 7.0, 12.0, 16.0, 20.0])\n",
    "y = torch.tensor([40.0, 120.0, 180.0, 210.0, 240.0])"
   ]
  },
  {
   "cell_type": "code",
   "execution_count": 5,
   "id": "6e65c4f7-3306-4236-94f5-60d4bd2f1440",
   "metadata": {},
   "outputs": [],
   "source": [
    "dataset = LRData(X, y)"
   ]
  },
  {
   "cell_type": "code",
   "execution_count": 6,
   "id": "44867879-1865-4641-a402-d7462f9b2c7e",
   "metadata": {},
   "outputs": [],
   "source": [
    "batch = dataset.__len__()"
   ]
  },
  {
   "cell_type": "code",
   "execution_count": 7,
   "id": "238251eb-7740-4b18-b7e8-1a71cabe9c0a",
   "metadata": {},
   "outputs": [
    {
     "data": {
      "text/plain": [
       "<torch.utils.data.dataloader.DataLoader at 0x7ec34526fc20>"
      ]
     },
     "execution_count": 7,
     "metadata": {},
     "output_type": "execute_result"
    }
   ],
   "source": [
    "dl = data.DataLoader(dataset=dataset, batch_size=batch, shuffle=True)\n",
    "dl"
   ]
  },
  {
   "cell_type": "code",
   "execution_count": 8,
   "id": "c58bd9e8-773e-4d6e-8c3a-0e34a47b7d13",
   "metadata": {},
   "outputs": [],
   "source": [
    "model = LR()"
   ]
  },
  {
   "cell_type": "code",
   "execution_count": 9,
   "id": "6a94ceee-6272-4e7c-96d0-1380de9ec23d",
   "metadata": {},
   "outputs": [],
   "source": [
    "cr = nn.MSELoss()"
   ]
  },
  {
   "cell_type": "code",
   "execution_count": 10,
   "id": "98ecb51c-5bbc-4a01-98b8-cff6d0eadcf7",
   "metadata": {},
   "outputs": [
    {
     "data": {
      "text/plain": [
       "SGD (\n",
       "Parameter Group 0\n",
       "    dampening: 0\n",
       "    differentiable: False\n",
       "    foreach: None\n",
       "    fused: None\n",
       "    lr: 0.001\n",
       "    maximize: False\n",
       "    momentum: 0\n",
       "    nesterov: False\n",
       "    weight_decay: 0\n",
       ")"
      ]
     },
     "execution_count": 10,
     "metadata": {},
     "output_type": "execute_result"
    }
   ],
   "source": [
    "opt = optim.SGD(model.parameters(), lr=0.001)\n",
    "opt"
   ]
  },
  {
   "cell_type": "code",
   "execution_count": 11,
   "id": "9c82d41f-3deb-4d58-bcde-83b8ba44020f",
   "metadata": {},
   "outputs": [],
   "source": [
    "losses = []"
   ]
  },
  {
   "cell_type": "code",
   "execution_count": 12,
   "id": "541b13b0-75a0-4816-b2ff-4feb551eb4fc",
   "metadata": {},
   "outputs": [
    {
     "data": {
      "text/plain": [
       "120000"
      ]
     },
     "execution_count": 12,
     "metadata": {},
     "output_type": "execute_result"
    }
   ],
   "source": [
    "epochs = int(input(\"Enter Number of Epochs : \"))\n",
    "epochs"
   ]
  },
  {
   "cell_type": "code",
   "execution_count": 13,
   "id": "761b915f-6166-425a-8a51-00f066712088",
   "metadata": {},
   "outputs": [
    {
     "name": "stdout",
     "output_type": "stream",
     "text": [
      "Epoch 0\n",
      "\tW : 0.604687511920929 B : 0.8172509074211121 Loss : 29705.671875\n",
      "-X-X-X-X-X-X-X-X-X-X-X-X-X-X-X-X-X-X-X-X-X-X-X-X-X-X-X-X-X-X-X-X-X-X-X-X-X-X-X-X-X-X-X-X-X-X-X-X-X-X-\n",
      "Epoch 24000\n",
      "\tW : 1.6758673191070557 B : 1.0107669830322266 Loss : 29705.0\n",
      "-X-X-X-X-X-X-X-X-X-X-X-X-X-X-X-X-X-X-X-X-X-X-X-X-X-X-X-X-X-X-X-X-X-X-X-X-X-X-X-X-X-X-X-X-X-X-X-X-X-X-\n",
      "Epoch 48000\n",
      "\tW : 1.801271677017212 B : 1.0349876880645752 Loss : 29705.0\n",
      "-X-X-X-X-X-X-X-X-X-X-X-X-X-X-X-X-X-X-X-X-X-X-X-X-X-X-X-X-X-X-X-X-X-X-X-X-X-X-X-X-X-X-X-X-X-X-X-X-X-X-\n",
      "Epoch 72000\n",
      "\tW : 1.875308632850647 B : 1.0493613481521606 Loss : 29705.0\n",
      "-X-X-X-X-X-X-X-X-X-X-X-X-X-X-X-X-X-X-X-X-X-X-X-X-X-X-X-X-X-X-X-X-X-X-X-X-X-X-X-X-X-X-X-X-X-X-X-X-X-X-\n",
      "Epoch 96000\n",
      "\tW : 1.9280749559402466 B : 1.0596338510513306 Loss : 29705.0\n",
      "-X-X-X-X-X-X-X-X-X-X-X-X-X-X-X-X-X-X-X-X-X-X-X-X-X-X-X-X-X-X-X-X-X-X-X-X-X-X-X-X-X-X-X-X-X-X-X-X-X-X-\n"
     ]
    }
   ],
   "source": [
    "for i in range(epochs):\n",
    "    l1 = 0.0\n",
    "    model.train()\n",
    "    for ip, t in dl:\n",
    "        opt.zero_grad()\n",
    "        op = model.forward(ip)\n",
    "        loss = cr(op, t)\n",
    "        loss.backward()\n",
    "        opt.step()\n",
    "        l1 += loss.item()\n",
    "    if(i % (epochs/5) == 0):\n",
    "        print(f\"Epoch {i}\\n\\tW : {model.l.weight.item()} B : {model.l.bias.item()} Loss : {loss.item()}\")\n",
    "        print('-X' * 50 + '-')\n",
    "    losses.append(l1)"
   ]
  },
  {
   "cell_type": "code",
   "execution_count": 14,
   "id": "075629b2-c4f6-4827-8063-a83f31c3fb8b",
   "metadata": {},
   "outputs": [
    {
     "data": {
      "image/png": "[encoded data removed]",
      "text/plain": [
       "<Figure size 640x480 with 1 Axes>"
      ]
     },
     "metadata": {},
     "output_type": "display_data"
    }
   ],
   "source": [
    "plt.plot(losses, label='Loss', color='blue')\n",
    "plt.xlabel('Epochs')\n",
    "plt.ylabel('Loss')\n",
    "plt.title('Loss vs Epochs in Logistic Regression Training')\n",
    "plt.grid(True)\n",
    "plt.legend()\n",
    "plt.show()"
   ]
  },
  {
   "cell_type": "code",
   "execution_count": 15,
   "id": "94882b83-7ca4-4fda-b54d-fa1e560d41f3",
   "metadata": {},
   "outputs": [],
   "source": [
    "torch.save(model, 'Model_NN_Logistic.pth')"
   ]
  },
  {
   "cell_type": "code",
   "execution_count": null,
   "metadata": {},
   "outputs": [],
   "source": []
  }
 ],
 "metadata": {
  "kernelspec": {
   "display_name": ".env",
   "language": "python",
   "name": "python3"
  },
  "language_info": {
   "codemirror_mode": {
    "name": "ipython",
    "version": 3
   },
   "file_extension": ".py",
   "mimetype": "text/x-python",
   "name": "python",
   "nbconvert_exporter": "python",
   "pygments_lexer": "ipython3",
   "version": "3.12.3"
  }
 },
 "nbformat": 4,
 "nbformat_minor": 2
}
