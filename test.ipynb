{
 "cells": [
  {
   "cell_type": "code",
   "execution_count": 1,
   "metadata": {},
   "outputs": [],
   "source": [
    "import pandas"
   ]
  },
  {
   "cell_type": "code",
   "execution_count": 3,
   "metadata": {},
   "outputs": [],
   "source": [
    "data = pandas.read_csv('data.csv')"
   ]
  },
  {
   "cell_type": "code",
   "execution_count": 6,
   "metadata": {},
   "outputs": [
    {
     "data": {
      "text/plain": [
       "[12.4,\n",
       " 14.3,\n",
       " 14.5,\n",
       " 14.9,\n",
       " 16.1,\n",
       " 16.9,\n",
       " 16.5,\n",
       " 15.4,\n",
       " 17.0,\n",
       " 17.9,\n",
       " 18.8,\n",
       " 20.3,\n",
       " 22.4,\n",
       " 19.4,\n",
       " 15.5,\n",
       " 16.7,\n",
       " 17.3,\n",
       " 18.4,\n",
       " 19.2,\n",
       " 17.4,\n",
       " 19.5,\n",
       " 19.7,\n",
       " 21.2]"
      ]
     },
     "execution_count": 6,
     "metadata": {},
     "output_type": "execute_result"
    }
   ],
   "source": [
    "data['X'].to_list()"
   ]
  },
  {
   "cell_type": "code",
   "execution_count": null,
   "metadata": {},
   "outputs": [],
   "source": []
  }
 ],
 "metadata": {
  "kernelspec": {
   "display_name": ".env",
   "language": "python",
   "name": "python3"
  },
  "language_info": {
   "codemirror_mode": {
    "name": "ipython",
    "version": 3
   },
   "file_extension": ".py",
   "mimetype": "text/x-python",
   "name": "python",
   "nbconvert_exporter": "python",
   "pygments_lexer": "ipython3",
   "version": "3.12.3"
  }
 },
 "nbformat": 4,
 "nbformat_minor": 2
}
